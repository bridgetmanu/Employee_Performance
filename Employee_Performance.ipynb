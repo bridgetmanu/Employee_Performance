{
  "nbformat": 4,
  "nbformat_minor": 0,
  "metadata": {
    "colab": {
      "provenance": [],
      "mount_file_id": "1OFRbcWnYNrXH6AcPge-tEqomAHUwWKrx",
      "authorship_tag": "ABX9TyMgAts1TqM8sz+4uXvVBIUq",
      "include_colab_link": true
    },
    "kernelspec": {
      "name": "python3",
      "display_name": "Python 3"
    },
    "language_info": {
      "name": "python"
    }
  },
  "cells": [
    {
      "cell_type": "markdown",
      "metadata": {
        "id": "view-in-github",
        "colab_type": "text"
      },
      "source": [
        "<a href=\"https://colab.research.google.com/github/bridgetmanu/Employee_Performance/blob/main/Employee_Performance.ipynb\" target=\"_parent\"><img src=\"https://colab.research.google.com/assets/colab-badge.svg\" alt=\"Open In Colab\"/></a>"
      ]
    },
    {
      "cell_type": "code",
      "execution_count": null,
      "metadata": {
        "colab": {
          "base_uri": "https://localhost:8080/"
        },
        "id": "x9PAGJDPpugX",
        "outputId": "9fabe44d-47f0-4d26-86b1-4df62d752765"
      },
      "outputs": [
        {
          "output_type": "stream",
          "name": "stdout",
          "text": [
            "Mounted at /content/drive\n"
          ]
        }
      ],
      "source": [
        "from google.colab import drive\n",
        "drive.mount('/content/drive', force_remount=True)"
      ]
    },
    {
      "cell_type": "code",
      "source": [
        "# libraries\n",
        "\n",
        "import pandas as pd\n",
        "import numpy as np\n",
        "import matplotlib.pyplot as plt\n",
        "import seaborn as sns"
      ],
      "metadata": {
        "id": "N9NpoUEDrHmC"
      },
      "execution_count": null,
      "outputs": []
    },
    {
      "cell_type": "markdown",
      "source": [
        "The data does not have any missing values or duplicated rows"
      ],
      "metadata": {
        "id": "HNgB43dqsMvF"
      }
    },
    {
      "cell_type": "code",
      "source": [
        "# Load the Data\n",
        "\n",
        "data = pd.read_csv(\"/content/drive/MyDrive/Extended_Employee_Performance_and_Productivity_Data.csv\")\n",
        "print(data.info())\n",
        "print(data.describe())\n",
        "data.head()\n",
        "data.drop_duplicates(inplace=True)\n"
      ],
      "metadata": {
        "colab": {
          "base_uri": "https://localhost:8080/"
        },
        "id": "_LOef0VnXjJg",
        "outputId": "8bc24abf-7a61-4124-b21e-7fb3ae59e652"
      },
      "execution_count": null,
      "outputs": [
        {
          "output_type": "stream",
          "name": "stdout",
          "text": [
            "<class 'pandas.core.frame.DataFrame'>\n",
            "RangeIndex: 100000 entries, 0 to 99999\n",
            "Data columns (total 20 columns):\n",
            " #   Column                       Non-Null Count   Dtype  \n",
            "---  ------                       --------------   -----  \n",
            " 0   Employee_ID                  100000 non-null  int64  \n",
            " 1   Department                   100000 non-null  object \n",
            " 2   Gender                       100000 non-null  object \n",
            " 3   Age                          100000 non-null  int64  \n",
            " 4   Job_Title                    100000 non-null  object \n",
            " 5   Hire_Date                    100000 non-null  object \n",
            " 6   Years_At_Company             100000 non-null  int64  \n",
            " 7   Education_Level              100000 non-null  object \n",
            " 8   Performance_Score            100000 non-null  int64  \n",
            " 9   Monthly_Salary               100000 non-null  float64\n",
            " 10  Work_Hours_Per_Week          100000 non-null  int64  \n",
            " 11  Projects_Handled             100000 non-null  int64  \n",
            " 12  Overtime_Hours               100000 non-null  int64  \n",
            " 13  Sick_Days                    100000 non-null  int64  \n",
            " 14  Remote_Work_Frequency        100000 non-null  int64  \n",
            " 15  Team_Size                    100000 non-null  int64  \n",
            " 16  Training_Hours               100000 non-null  int64  \n",
            " 17  Promotions                   100000 non-null  int64  \n",
            " 18  Employee_Satisfaction_Score  100000 non-null  float64\n",
            " 19  Resigned                     100000 non-null  bool   \n",
            "dtypes: bool(1), float64(2), int64(12), object(5)\n",
            "memory usage: 14.6+ MB\n",
            "None\n"
          ]
        }
      ]
    },
    {
      "cell_type": "markdown",
      "source": [
        "## Exploratory Data Analysis"
      ],
      "metadata": {
        "id": "XADl99KtstXq"
      }
    },
    {
      "cell_type": "code",
      "source": [],
      "metadata": {
        "id": "p_WfUtEucOw3"
      },
      "execution_count": null,
      "outputs": []
    },
    {
      "cell_type": "markdown",
      "source": [
        "Project Timeline & Tasks\n",
        "\n",
        "🔹 April 3 - April 6: Data Exploration & Cleaning\n",
        "\n",
        "Load dataset into Python (Pandas) or SQL\n",
        "\n",
        "Handle missing values, check for duplicates\n",
        "\n",
        "Perform Exploratory Data Analysis (EDA):\n",
        "\n",
        "Identify trends in work hours, performance scores, job roles, and absenteeism\n",
        "\n",
        "Generate summary statistics & correlation heatmaps\n",
        "\n",
        "\n",
        "🔹 April 7 - April 10: SQL & Power BI Dashboard\n",
        "\n",
        "Use SQL to analyze:\n",
        "\n",
        "How work hours impact performance\n",
        "\n",
        "Trends in productivity across different departments\n",
        "\n",
        "Build Power BI dashboard:\n",
        "\n",
        "Create interactive charts for performance trends\n",
        "\n",
        "Add filters for department-wise analysis\n",
        "\n",
        "\n",
        "🔹 April 11 - April 14: Insights & Final Report\n",
        "\n",
        "Identify key drivers of high vs. low employee productivity\n",
        "\n",
        "Write a short report (1-2 pages) summarizing insights\n",
        "\n",
        "Prepare a 30-second elevator pitch to present at the networking event\n",
        "\n",
        "🎯 Key Takeaways for Your Resume & Networking Event\n",
        "Skills Showcased: SQL, Power BI, Data Analysis, Trend Identification\n",
        "\n",
        "Discussion Points:\n",
        "\n",
        "\"I recently analyzed employee performance data and built an interactive dashboard to uncover key factors influencing productivity. I’d love to share how these insights could be applied in workforce analytics.\"\n",
        "\n",
        "\"From my analysis, I discovered that [insert key finding] had the most impact on performance, which could help companies optimize resource allocation.\""
      ],
      "metadata": {
        "id": "E1v9gWWiIGPt"
      }
    }
  ]
}